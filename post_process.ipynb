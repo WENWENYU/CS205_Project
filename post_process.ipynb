{
 "cells": [
  {
   "cell_type": "code",
   "execution_count": 8,
   "metadata": {
    "collapsed": false
   },
   "outputs": [],
   "source": [
    "###\n",
    "### post-processing: \n",
    "### predict the testing data using the trained model and save the output labels to a file\n",
    "### run it with: python post_process.py prediction.yaml\n",
    "###\n",
    "\n",
    "from pylearn2.utils import serial\n",
    "from theano import tensor as T\n",
    "from theano import function\n",
    "import sys\n",
    "import yaml\n",
    "import h5py\n",
    "import numpy as np\n",
    "import time\n",
    "import pickle"
   ]
  },
  {
   "cell_type": "code",
   "execution_count": 9,
   "metadata": {
    "collapsed": true
   },
   "outputs": [],
   "source": [
    "def get_config_dict(config_file_name):\n",
    "\tconfig = open(\"config/\" + config_file_name)\n",
    "\tconfig_dict = yaml.safe_load(config)['post_process']\n",
    "\treturn config_dict"
   ]
  },
  {
   "cell_type": "code",
   "execution_count": 11,
   "metadata": {
    "collapsed": false
   },
   "outputs": [],
   "source": [
    "config_file_name = \"prediction.yaml\"\n",
    "config_dict = get_config_dict(config_file_name)"
   ]
  },
  {
   "cell_type": "code",
   "execution_count": 12,
   "metadata": {
    "collapsed": false
   },
   "outputs": [],
   "source": [
    "model_path, dataset_path, image_height, image_width, output_path = config_dict['model_path'], config_dict['data_path'], config_dict['image_height'], config_dict['image_width'], config_dict['output_path']"
   ]
  },
  {
   "cell_type": "code",
   "execution_count": 14,
   "metadata": {
    "collapsed": false
   },
   "outputs": [
    {
     "name": "stdout",
     "output_type": "stream",
     "text": [
      "loading model...\n",
      "model loaded. time spent:  386.15328598 s\n"
     ]
    }
   ],
   "source": [
    "# load trained model\n",
    "print \"loading model...\"\n",
    "start = time.time()\n",
    "try:\n",
    "    model = serial.load(model_path)\n",
    "except Exception as e:\n",
    "    print(\"error loading {}:\".format(model_path))\n",
    "    print(e)\n",
    "stop = time.time()\n",
    "print \"model loaded. time spent: \", (stop - start), \"s\""
   ]
  },
  {
   "cell_type": "code",
   "execution_count": 15,
   "metadata": {
    "collapsed": true
   },
   "outputs": [],
   "source": [
    "X = model.get_input_space().make_theano_batch() \n",
    "Y = model.fprop(X) \n",
    "Y = T.argmax(Y, axis = 1) \n",
    "f = function([X], Y) "
   ]
  },
  {
   "cell_type": "code",
   "execution_count": 18,
   "metadata": {
    "collapsed": false
   },
   "outputs": [
    {
     "name": "stdout",
     "output_type": "stream",
     "text": [
      "loading testing data...\n",
      "testing data loaded. time spent:  0.215599060059 s\n"
     ]
    }
   ],
   "source": [
    "# load testing data\n",
    "print \"loading testing data...\"\n",
    "start = time.time()\n",
    "h5f = h5py.File(dataset_path,'r')\n",
    "X_test = np.array(h5f['X_test'][:], dtype=np.float32)\n",
    "h5f.close()\n",
    "stop = time.time()\n",
    "print \"testing data loaded. time spent: \", (stop - start), \"s\""
   ]
  },
  {
   "cell_type": "code",
   "execution_count": 19,
   "metadata": {
    "collapsed": false
   },
   "outputs": [
    {
     "name": "stdout",
     "output_type": "stream",
     "text": [
      "predicting testing data...\n",
      "prediction finished. time spent:  296.800985098 s\n",
      "saving result to file...\n"
     ]
    }
   ],
   "source": [
    "print \"predicting testing data...\"\n",
    "X_test = np.reshape(X_test, (X_test.shape[0], image_height, image_width, 1))\n",
    "start = time.time()\n",
    "y_pred = f(X_test)\n",
    "stop = time.time()\n",
    "print \"prediction finished. time spent: \", (stop - start), \"s\"\n",
    "\n",
    "print \"saving result to file...\"\n",
    "pickle.dump(y_pred, open(output_path, 'wb'))"
   ]
  },
  {
   "cell_type": "code",
   "execution_count": null,
   "metadata": {
    "collapsed": true
   },
   "outputs": [],
   "source": []
  }
 ],
 "metadata": {
  "kernelspec": {
   "display_name": "Python 2",
   "language": "python",
   "name": "python2"
  },
  "language_info": {
   "codemirror_mode": {
    "name": "ipython",
    "version": 2
   },
   "file_extension": ".py",
   "mimetype": "text/x-python",
   "name": "python",
   "nbconvert_exporter": "python",
   "pygments_lexer": "ipython2",
   "version": "2.7.9"
  }
 },
 "nbformat": 4,
 "nbformat_minor": 0
}
