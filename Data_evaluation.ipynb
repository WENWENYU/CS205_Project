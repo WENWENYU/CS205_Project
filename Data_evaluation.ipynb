{
 "cells": [
  {
   "cell_type": "code",
   "execution_count": 2,
   "metadata": {
    "collapsed": false
   },
   "outputs": [],
   "source": [
    "import time\n",
    "import numpy as np\n",
    "from numpy.random import randint\n",
    "import collections\n",
    "from collections import Counter\n",
    "import scipy\n",
    "import os\n",
    "%matplotlib inline\n",
    "import matplotlib.pyplot as plt\n",
    "\n",
    "from sklearn.metrics import confusion_matrix"
   ]
  },
  {
   "cell_type": "markdown",
   "metadata": {},
   "source": [
    "#### Fake some data: rate_true and rate_predicted"
   ]
  },
  {
   "cell_type": "code",
   "execution_count": 5,
   "metadata": {
    "collapsed": true
   },
   "outputs": [],
   "source": [
    "rate_true = np.random.randint(0, 5, 100)\n",
    "rate_predicted = np.random.randint(0, 5, 100)"
   ]
  },
  {
   "cell_type": "markdown",
   "metadata": {},
   "source": [
    "#### Print the quadratic weighted kappa"
   ]
  },
  {
   "cell_type": "code",
   "execution_count": 6,
   "metadata": {
    "collapsed": true
   },
   "outputs": [],
   "source": [
    "# %load quadratic_kappa.py"
   ]
  },
  {
   "cell_type": "code",
   "execution_count": 7,
   "metadata": {
    "collapsed": false
   },
   "outputs": [],
   "source": [
    "# %load quadratic_kappa.py\n",
    "def quadratic_kappa_cost(e_a, e_b):\n",
    "    N = 5\n",
    "    O = np.zeros((N, N), dtype=np.float)\n",
    "    w = np.zeros((N, N))\n",
    "    for i, j in zip(e_a, e_b):\n",
    "        O[i, j] += 1\n",
    "    O = np.array(O / np.sum(O), np.float)\n",
    "    for i in range(0, N):\n",
    "        for j in range(0, N):\n",
    "            w[i, j] = ((i-j)**2) / float(((N-1)**2))\n",
    "    e_a_hist = np.array(collections.OrderedDict(sorted(Counter(e_a).items())).values())\n",
    "    e_b_hist = np.array(collections.OrderedDict(sorted(Counter(e_b).items())).values())\n",
    "    E = np.array(np.outer(e_a_hist, e_b_hist), dtype=np.float32)\n",
    "    E = E / np.sum(E)\n",
    "    k = 1 - np.sum(np.multiply(w, O)) / np.sum(np.multiply(w,E))\n",
    "    return k"
   ]
  },
  {
   "cell_type": "code",
   "execution_count": 8,
   "metadata": {
    "collapsed": false
   },
   "outputs": [
    {
     "name": "stdout",
     "output_type": "stream",
     "text": [
      "Quadratic Weighted Kappa:\n",
      "0.0438786545751\n"
     ]
    }
   ],
   "source": [
    "print \"Quadratic Weighted Kappa:\"\n",
    "print quadratic_kappa_cost(rate_true, rate_predicted)"
   ]
  },
  {
   "cell_type": "markdown",
   "metadata": {},
   "source": [
    "#### ROC Curve"
   ]
  },
  {
   "cell_type": "code",
   "execution_count": null,
   "metadata": {
    "collapsed": true
   },
   "outputs": [],
   "source": []
  },
  {
   "cell_type": "markdown",
   "metadata": {},
   "source": [
    "#### Confusion Matrix"
   ]
  },
  {
   "cell_type": "code",
   "execution_count": null,
   "metadata": {
    "collapsed": true
   },
   "outputs": [],
   "source": []
  },
  {
   "cell_type": "markdown",
   "metadata": {},
   "source": [
    "#### AUC ROC"
   ]
  },
  {
   "cell_type": "code",
   "execution_count": null,
   "metadata": {
    "collapsed": true
   },
   "outputs": [],
   "source": []
  },
  {
   "cell_type": "code",
   "execution_count": null,
   "metadata": {
    "collapsed": true
   },
   "outputs": [],
   "source": []
  },
  {
   "cell_type": "code",
   "execution_count": null,
   "metadata": {
    "collapsed": true
   },
   "outputs": [],
   "source": []
  }
 ],
 "metadata": {
  "kernelspec": {
   "display_name": "Python 2",
   "language": "python",
   "name": "python2"
  },
  "language_info": {
   "codemirror_mode": {
    "name": "ipython",
    "version": 2
   },
   "file_extension": ".py",
   "mimetype": "text/x-python",
   "name": "python",
   "nbconvert_exporter": "python",
   "pygments_lexer": "ipython2",
   "version": "2.7.9"
  }
 },
 "nbformat": 4,
 "nbformat_minor": 0
}
