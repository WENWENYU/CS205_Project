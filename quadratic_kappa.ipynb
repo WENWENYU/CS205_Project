{
 "cells": [
  {
   "cell_type": "code",
   "execution_count": 109,
   "metadata": {
    "collapsed": false
   },
   "outputs": [],
   "source": [
    "import numpy as np\n",
    "from numpy.random import randint\n",
    "import collections\n",
    "from collections import Counter"
   ]
  },
  {
   "cell_type": "code",
   "execution_count": 110,
   "metadata": {
    "collapsed": true
   },
   "outputs": [],
   "source": [
    "N = 5\n",
    "e_a = randint(0, 5, 100) #actual\n",
    "e_b = randint(0, 5, 100)#predicted\n",
    "O = np.zeros((N, N), dtype=np.float32)\n",
    "w = np.zeros((N, N))"
   ]
  },
  {
   "cell_type": "code",
   "execution_count": 111,
   "metadata": {
    "collapsed": true
   },
   "outputs": [],
   "source": [
    "for i, j in zip(e_a, e_b):\n",
    "    O[i, j] += 1"
   ]
  },
  {
   "cell_type": "code",
   "execution_count": 112,
   "metadata": {
    "collapsed": false
   },
   "outputs": [
    {
     "data": {
      "text/plain": [
       "array([[ 4.,  3.,  9.,  2.,  2.],\n",
       "       [ 4.,  3.,  4.,  1.,  5.],\n",
       "       [ 5.,  8.,  6.,  6.,  5.],\n",
       "       [ 6.,  4.,  6.,  1.,  6.],\n",
       "       [ 0.,  2.,  1.,  4.,  3.]], dtype=float32)"
      ]
     },
     "execution_count": 112,
     "metadata": {},
     "output_type": "execute_result"
    }
   ],
   "source": [
    "O"
   ]
  },
  {
   "cell_type": "code",
   "execution_count": 113,
   "metadata": {
    "collapsed": false
   },
   "outputs": [],
   "source": [
    "O = O / np.sum(O)"
   ]
  },
  {
   "cell_type": "code",
   "execution_count": 114,
   "metadata": {
    "collapsed": false
   },
   "outputs": [],
   "source": [
    "for i in range(0, N):\n",
    "    for j in range(0, N):\n",
    "        w[i, j] = ((i-j)**2) / float(((N-1)**2))"
   ]
  },
  {
   "cell_type": "code",
   "execution_count": 115,
   "metadata": {
    "collapsed": false
   },
   "outputs": [
    {
     "data": {
      "text/plain": [
       "array([[ 0.    ,  0.0625,  0.25  ,  0.5625,  1.    ],\n",
       "       [ 0.0625,  0.    ,  0.0625,  0.25  ,  0.5625],\n",
       "       [ 0.25  ,  0.0625,  0.    ,  0.0625,  0.25  ],\n",
       "       [ 0.5625,  0.25  ,  0.0625,  0.    ,  0.0625],\n",
       "       [ 1.    ,  0.5625,  0.25  ,  0.0625,  0.    ]])"
      ]
     },
     "execution_count": 115,
     "metadata": {},
     "output_type": "execute_result"
    }
   ],
   "source": [
    "w"
   ]
  },
  {
   "cell_type": "code",
   "execution_count": 120,
   "metadata": {
    "collapsed": false
   },
   "outputs": [],
   "source": [
    "e_a_hist = np.array(collections.OrderedDict(sorted(Counter(e_a).items())).values())\n",
    "e_b_hist = np.array(collections.OrderedDict(sorted(Counter(e_b).items())).values())\n",
    "\n",
    "#norm_hist_a = map(float, e_a_hist) / np.sum(e_a_hist)\n",
    "#norm_hist_b = map(float, e_b_hist) / np.sum(e_b_hist)"
   ]
  },
  {
   "cell_type": "code",
   "execution_count": 121,
   "metadata": {
    "collapsed": false
   },
   "outputs": [],
   "source": [
    "E = np.outer(e_a_hist, e_b_hist)"
   ]
  },
  {
   "cell_type": "code",
   "execution_count": 123,
   "metadata": {
    "collapsed": true
   },
   "outputs": [],
   "source": [
    "E = E / np.sum(E)"
   ]
  },
  {
   "cell_type": "code",
   "execution_count": 124,
   "metadata": {
    "collapsed": false
   },
   "outputs": [
    {
     "data": {
      "text/plain": [
       "(0, 0.99999988)"
      ]
     },
     "execution_count": 124,
     "metadata": {},
     "output_type": "execute_result"
    }
   ],
   "source": [
    "np.sum(E), np.sum(O)"
   ]
  },
  {
   "cell_type": "code",
   "execution_count": 100,
   "metadata": {
    "collapsed": false
   },
   "outputs": [
    {
     "data": {
      "text/plain": [
       "array([[ 0.        ,  0.00201875,  0.010925  ,  0.01816875,  0.0361    ],\n",
       "       [ 0.0033    ,  0.        ,  0.0031625 ,  0.00935   ,  0.0235125 ],\n",
       "       [ 0.0132    ,  0.0023375 ,  0.        ,  0.0023375 ,  0.01045   ],\n",
       "       [ 0.0243    ,  0.00765   ,  0.0025875 ,  0.        ,  0.0021375 ],\n",
       "       [ 0.0456    ,  0.01816875,  0.010925  ,  0.00201875,  0.        ]])"
      ]
     },
     "execution_count": 100,
     "metadata": {},
     "output_type": "execute_result"
    }
   ],
   "source": [
    "np.multiply(w, E)"
   ]
  },
  {
   "cell_type": "code",
   "execution_count": 101,
   "metadata": {
    "collapsed": false
   },
   "outputs": [
    {
     "data": {
      "text/plain": [
       "array([[ 0.      ,  0.001875,  0.015   ,  0.0225  ,  0.02    ],\n",
       "       [ 0.0025  ,  0.      ,  0.003125,  0.01    ,  0.028125],\n",
       "       [ 0.0175  ,  0.003125,  0.      ,  0.001875,  0.0075  ],\n",
       "       [ 0.016875,  0.005   ,  0.00125 ,  0.      ,  0.00375 ],\n",
       "       [ 0.06    ,  0.016875,  0.015   ,  0.000625,  0.      ]])"
      ]
     },
     "execution_count": 101,
     "metadata": {},
     "output_type": "execute_result"
    }
   ],
   "source": [
    "np.multiply(w, O)"
   ]
  },
  {
   "cell_type": "code",
   "execution_count": 107,
   "metadata": {
    "collapsed": false
   },
   "outputs": [],
   "source": [
    "k = 1 - np.sum(np.multiply(w, O)) / np.sum(np.multiply(w,E))"
   ]
  },
  {
   "cell_type": "code",
   "execution_count": 108,
   "metadata": {
    "collapsed": false
   },
   "outputs": [
    {
     "data": {
      "text/plain": [
       "-0.017119823171863224"
      ]
     },
     "execution_count": 108,
     "metadata": {},
     "output_type": "execute_result"
    }
   ],
   "source": [
    "k"
   ]
  }
 ],
 "metadata": {
  "kernelspec": {
   "display_name": "Python 2",
   "language": "python",
   "name": "python2"
  },
  "language_info": {
   "codemirror_mode": {
    "name": "ipython",
    "version": 2
   },
   "file_extension": ".py",
   "mimetype": "text/x-python",
   "name": "python",
   "nbconvert_exporter": "python",
   "pygments_lexer": "ipython2",
   "version": "2.7.9"
  }
 },
 "nbformat": 4,
 "nbformat_minor": 0
}
